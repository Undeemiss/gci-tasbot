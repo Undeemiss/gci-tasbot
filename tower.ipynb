{
 "cells": [
  {
   "cell_type": "code",
   "execution_count": null,
   "id": "3540306d",
   "metadata": {},
   "outputs": [],
   "source": [
    "from input_manager import camera, input\n",
    "from time import sleep"
   ]
  },
  {
   "cell_type": "markdown",
   "id": "b725838c",
   "metadata": {},
   "source": [
    "The following block defines behaviors for each of the reset types present in the tower gamemode. It will teleport to the correct floor, then automatically orient the camera and click the desired buttons. By modeling the game state, we don't need to normalize our position between actions in order to perform them in an arbitrary order."
   ]
  },
  {
   "cell_type": "code",
   "execution_count": null,
   "id": "381ebfc9",
   "metadata": {},
   "outputs": [],
   "source": [
    "location = 'unknown'\n",
    "DEFAULT_ACTION_TIME = 4\n",
    "\n",
    "\n",
    "# Assumes floors 1, 2, and 3 are pinned at present\n",
    "def set_floor(floor, sleep_time=1):\n",
    "    global location\n",
    "    if not (location == f\"floor_{floor}\"):\n",
    "        assert floor >= 1\n",
    "        assert floor <= 5\n",
    "        x = 700 + (125 * floor)\n",
    "        input.lclick(x, 2000)\n",
    "        location = f\"floor_{floor}\"\n",
    "        sleep(sleep_time)\n",
    "\n",
    "\n",
    "def floor_collect(floor, repetitions=1):\n",
    "    set_floor(floor)\n",
    "    camera.set_all(10, 0, 4)\n",
    "\n",
    "    global location\n",
    "    location = f\"floor_{floor}_collect\"\n",
    "    input.walk(0.35, 'w')\n",
    "    input.walk(0.82, 'a')\n",
    "\n",
    "    # Begin sweep\n",
    "    SWEEP_LENGTH = 1.75\n",
    "    SWEEP_WIDTH = 0.21\n",
    "    SWEEP_COLUMNS = 9\n",
    "    at_bottom = True\n",
    "    for j in range(0, repetitions):\n",
    "        for i in range(0, SWEEP_COLUMNS):\n",
    "            input.walk(SWEEP_LENGTH, 'w' if at_bottom else 's')\n",
    "            at_bottom = not at_bottom\n",
    "            if i < SWEEP_COLUMNS-1:\n",
    "                input.walk(SWEEP_WIDTH, 'd')\n",
    "        if j < repetitions - 1:\n",
    "            input.walk(SWEEP_WIDTH * (SWEEP_COLUMNS - 1), 'a')\n",
    "\n",
    "\n",
    "def floor_prestige(floor, sleep_time=DEFAULT_ACTION_TIME):\n",
    "    set_floor(floor)\n",
    "    camera.set_all(2, 6, 0)\n",
    "    input.lclick(1056, 1438)\n",
    "    sleep(sleep_time)\n",
    "\n",
    "\n",
    "def floor_crystallize(floor, sleep_time=DEFAULT_ACTION_TIME):\n",
    "    set_floor(floor)\n",
    "    camera.set_all(2, 5, 0)\n",
    "    input.lclick(1181, 1440)\n",
    "    sleep(sleep_time)\n",
    "\n",
    "\n",
    "def floor_grasshop(floor, sleep_time=DEFAULT_ACTION_TIME):\n",
    "    set_floor(floor)\n",
    "    camera.set_all(2, 1, 0)\n",
    "    input.lclick(916, 1442)\n",
    "    sleep(sleep_time)\n",
    "\n",
    "\n",
    "def floor_steelie(floor, sleep_time=DEFAULT_ACTION_TIME):\n",
    "    set_floor(floor)\n",
    "    camera.set_all(2, 1, 0)\n",
    "    input.lclick(1122, 1440)\n",
    "    sleep(sleep_time)"
   ]
  },
  {
   "cell_type": "code",
   "execution_count": null,
   "id": "4c715cd0",
   "metadata": {},
   "outputs": [],
   "source": [
    "# Sleep for 1s and normalize the game state to facilitate a handover to the script.\n",
    "sleep(1)\n",
    "camera.resync()\n",
    "location = 'unknown'\n",
    "\n",
    "\n",
    "# Demo inputs. Can be put in any arbitrary order without worrying about game state.\n",
    "while True:\n",
    "    floor_collect(3, 2)"
   ]
  }
 ],
 "metadata": {
  "kernelspec": {
   "display_name": "Python 3",
   "language": "python",
   "name": "python3"
  },
  "language_info": {
   "codemirror_mode": {
    "name": "ipython",
    "version": 3
   },
   "file_extension": ".py",
   "mimetype": "text/x-python",
   "name": "python",
   "nbconvert_exporter": "python",
   "pygments_lexer": "ipython3",
   "version": "3.13.5"
  }
 },
 "nbformat": 4,
 "nbformat_minor": 5
}
